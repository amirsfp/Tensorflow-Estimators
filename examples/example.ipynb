{
 "cells": [
  {
   "cell_type": "markdown",
   "metadata": {},
   "source": [
    "## CIFAR-10 dataset"
   ]
  },
  {
   "cell_type": "code",
   "execution_count": 1,
   "metadata": {},
   "outputs": [],
   "source": [
    "num_classes = 10\n",
    "img_size = 32\n",
    "num_channels = 3\n",
    "img_shape = [img_size, img_size, num_channels]\n",
    "\n",
    "names = {'airplane':0,\n",
    "         'automobile':1,\n",
    "         'bird':2,\n",
    "         'cat':3,\n",
    "         'deer':4,\n",
    "         'dog':5,\n",
    "         'frog':6,\n",
    "         'horse':7,\n",
    "         'ship':8,\n",
    "         'truck':9}"
   ]
  },
  {
   "cell_type": "code",
   "execution_count": 2,
   "metadata": {},
   "outputs": [],
   "source": [
    "import glob\n",
    "\n",
    "data_dir = 'D:/cifar/train/'\n",
    "\n",
    "train_addrs = [file.replace('\\\\', '/') for file in glob.glob(data_dir + '*.png')]\n",
    "train_labels = [int(names[file.split('/')[-1].split('.')[0].split('_')[-1]]) for file in train_addrs]"
   ]
  },
  {
   "cell_type": "markdown",
   "metadata": {},
   "source": [
    "## Creating a .tfrecord file"
   ]
  },
  {
   "cell_type": "code",
   "execution_count": 3,
   "metadata": {},
   "outputs": [
    {
     "name": "stdout",
     "output_type": "stream",
     "text": [
      "Converting: D:/train.tfrecords\n",
      "- Progress: 100.0%"
     ]
    }
   ],
   "source": [
    "from tfrecord_utils import convert_function\n",
    "\n",
    "path_tfrecords_train = 'D:/train.tfrecords'\n",
    "convert_function(image_paths=train_addrs,\n",
    "                 labels=train_labels,\n",
    "                 out_path=path_tfrecords_train)"
   ]
  },
  {
   "cell_type": "code",
   "execution_count": 4,
   "metadata": {},
   "outputs": [],
   "source": [
    "import tensorflow as tf\n",
    "from estimator_utils import input_fn, model_fn\n",
    "\n",
    "BUFFER_SIZE = 10000\n",
    "BATCH_SIZE = 64\n",
    "STEPS_PER_EPOCH = 4\n",
    "NUM_EPOCHS = 1000\n",
    "\n",
    "path_tfrecords_train = \"D:/train.tfrecords\"\n",
    "\n",
    "def train_input_fn():\n",
    "    return input_fn(filenames=path_tfrecords_train,\n",
    "                    buffer_size=BUFFER_SIZE,\n",
    "                    batch_size=BATCH_SIZE)"
   ]
  },
  {
   "cell_type": "markdown",
   "metadata": {},
   "source": [
    "## Training a Keras model with Tensorflow's TFrecord using an Estimator"
   ]
  },
  {
   "cell_type": "code",
   "execution_count": 5,
   "metadata": {},
   "outputs": [
    {
     "name": "stdout",
     "output_type": "stream",
     "text": [
      "INFO:tensorflow:Using default config.\n",
      "WARNING:tensorflow:Using temporary folder as model directory: C:\\Users\\asafarpo\\AppData\\Local\\Temp\\tmp4ac2l11u\n",
      "INFO:tensorflow:Using config: {'_model_dir': 'C:\\\\Users\\\\asafarpo\\\\AppData\\\\Local\\\\Temp\\\\tmp4ac2l11u', '_tf_random_seed': None, '_save_summary_steps': 100, '_save_checkpoints_steps': None, '_save_checkpoints_secs': 600, '_session_config': allow_soft_placement: true\n",
      "graph_options {\n",
      "  rewrite_options {\n",
      "    meta_optimizer_iterations: ONE\n",
      "  }\n",
      "}\n",
      ", '_keep_checkpoint_max': 5, '_keep_checkpoint_every_n_hours': 10000, '_log_step_count_steps': 100, '_train_distribute': None, '_device_fn': None, '_protocol': None, '_eval_distribute': None, '_experimental_distribute': None, '_experimental_max_worker_delay_secs': None, '_session_creation_timeout_secs': 7200, '_service': None, '_cluster_spec': <tensorflow.python.training.server_lib.ClusterSpec object at 0x000001B939323048>, '_task_type': 'worker', '_task_id': 0, '_global_id_in_cluster': 0, '_master': '', '_evaluation_master': '', '_is_chief': True, '_num_ps_replicas': 0, '_num_worker_replicas': 1}\n",
      "INFO:tensorflow:Not using Distribute Coordinator.\n",
      "INFO:tensorflow:Running training and evaluation locally (non-distributed).\n",
      "INFO:tensorflow:Start train and evaluate loop. The evaluate will happen after every checkpoint. Checkpoint frequency is determined based on RunConfig arguments: save_checkpoints_steps None or save_checkpoints_secs 600.\n",
      "WARNING:tensorflow:From C:\\Users\\asafarpo\\Anaconda3\\envs\\tf-gpu-2\\lib\\site-packages\\tensorflow_core\\python\\ops\\resource_variable_ops.py:1630: calling BaseResourceVariable.__init__ (from tensorflow.python.ops.resource_variable_ops) with constraint is deprecated and will be removed in a future version.\n",
      "Instructions for updating:\n",
      "If using Keras pass *_constraint arguments to layers.\n",
      "WARNING:tensorflow:From C:\\Users\\asafarpo\\Anaconda3\\envs\\tf-gpu-2\\lib\\site-packages\\tensorflow_core\\python\\training\\training_util.py:236: Variable.initialized_value (from tensorflow.python.ops.variables) is deprecated and will be removed in a future version.\n",
      "Instructions for updating:\n",
      "Use Variable.read_value. Variables in 2.X are initialized automatically both in eager and graph (inside tf.defun) contexts.\n",
      "INFO:tensorflow:Calling model_fn.\n",
      "INFO:tensorflow:Done calling model_fn.\n",
      "INFO:tensorflow:Create CheckpointSaverHook.\n",
      "INFO:tensorflow:Graph was finalized.\n",
      "INFO:tensorflow:Running local_init_op.\n",
      "INFO:tensorflow:Done running local_init_op.\n",
      "INFO:tensorflow:Saving checkpoints for 0 into C:\\Users\\asafarpo\\AppData\\Local\\Temp\\tmp4ac2l11u\\model.ckpt.\n",
      "INFO:tensorflow:loss = 2.787283, step = 0\n",
      "INFO:tensorflow:global_step/sec: 9.09365\n",
      "INFO:tensorflow:loss = 1.4503148, step = 100 (10.998 sec)\n",
      "INFO:tensorflow:global_step/sec: 13.5558\n",
      "INFO:tensorflow:loss = 1.7986462, step = 200 (7.378 sec)\n",
      "INFO:tensorflow:global_step/sec: 13.5471\n",
      "INFO:tensorflow:loss = 1.5982002, step = 300 (7.384 sec)\n",
      "INFO:tensorflow:global_step/sec: 13.8605\n",
      "INFO:tensorflow:loss = 1.7610941, step = 400 (7.213 sec)\n",
      "INFO:tensorflow:global_step/sec: 13.3264\n",
      "INFO:tensorflow:loss = 1.650475, step = 500 (7.503 sec)\n",
      "INFO:tensorflow:global_step/sec: 13.1723\n",
      "INFO:tensorflow:loss = 1.1578894, step = 600 (7.593 sec)\n",
      "INFO:tensorflow:global_step/sec: 14.3198\n",
      "INFO:tensorflow:loss = 1.2930164, step = 700 (6.981 sec)\n",
      "INFO:tensorflow:global_step/sec: 11.6917\n",
      "INFO:tensorflow:loss = 1.37481, step = 800 (8.553 sec)\n",
      "INFO:tensorflow:global_step/sec: 13.1186\n",
      "INFO:tensorflow:loss = 1.297574, step = 900 (7.624 sec)\n",
      "INFO:tensorflow:global_step/sec: 13.2213\n",
      "INFO:tensorflow:loss = 1.0611182, step = 1000 (7.563 sec)\n",
      "INFO:tensorflow:global_step/sec: 13.5882\n",
      "INFO:tensorflow:loss = 0.89669454, step = 1100 (7.360 sec)\n",
      "INFO:tensorflow:global_step/sec: 13.6865\n",
      "INFO:tensorflow:loss = 0.85886514, step = 1200 (7.307 sec)\n",
      "INFO:tensorflow:global_step/sec: 13.6003\n",
      "INFO:tensorflow:loss = 1.0502992, step = 1300 (7.353 sec)\n",
      "INFO:tensorflow:global_step/sec: 13.6178\n",
      "INFO:tensorflow:loss = 1.0622574, step = 1400 (7.342 sec)\n",
      "INFO:tensorflow:global_step/sec: 14.9922\n",
      "INFO:tensorflow:loss = 0.8784792, step = 1500 (6.671 sec)\n",
      "INFO:tensorflow:global_step/sec: 12.83\n",
      "INFO:tensorflow:loss = 1.0223165, step = 1600 (7.790 sec)\n",
      "INFO:tensorflow:global_step/sec: 12.9117\n",
      "INFO:tensorflow:loss = 0.92779064, step = 1700 (7.749 sec)\n",
      "INFO:tensorflow:global_step/sec: 13.0331\n",
      "INFO:tensorflow:loss = 0.9196187, step = 1800 (7.672 sec)\n",
      "INFO:tensorflow:global_step/sec: 13.0762\n",
      "INFO:tensorflow:loss = 0.75020206, step = 1900 (7.648 sec)\n",
      "INFO:tensorflow:global_step/sec: 13.1326\n",
      "INFO:tensorflow:loss = 1.2652075, step = 2000 (7.617 sec)\n",
      "INFO:tensorflow:global_step/sec: 13.071\n",
      "INFO:tensorflow:loss = 1.1398673, step = 2100 (7.648 sec)\n",
      "INFO:tensorflow:global_step/sec: 13.1688\n",
      "INFO:tensorflow:loss = 0.800274, step = 2200 (7.594 sec)\n",
      "INFO:tensorflow:global_step/sec: 14.9119\n",
      "INFO:tensorflow:loss = 0.81000197, step = 2300 (6.706 sec)\n",
      "INFO:tensorflow:global_step/sec: 12.5822\n",
      "INFO:tensorflow:loss = 0.8379673, step = 2400 (7.947 sec)\n",
      "INFO:tensorflow:global_step/sec: 12.8941\n",
      "INFO:tensorflow:loss = 0.91893184, step = 2500 (7.756 sec)\n",
      "INFO:tensorflow:global_step/sec: 13.1988\n",
      "INFO:tensorflow:loss = 0.6010589, step = 2600 (7.578 sec)\n",
      "INFO:tensorflow:global_step/sec: 13.2471\n",
      "INFO:tensorflow:loss = 0.7630696, step = 2700 (7.549 sec)\n",
      "INFO:tensorflow:global_step/sec: 12.9227\n",
      "INFO:tensorflow:loss = 0.6631673, step = 2800 (7.738 sec)\n",
      "INFO:tensorflow:global_step/sec: 12.9561\n",
      "INFO:tensorflow:loss = 0.94994473, step = 2900 (7.717 sec)\n",
      "INFO:tensorflow:global_step/sec: 13.3388\n",
      "INFO:tensorflow:loss = 0.64496106, step = 3000 (7.497 sec)\n",
      "INFO:tensorflow:global_step/sec: 13.9532\n",
      "INFO:tensorflow:loss = 0.67132115, step = 3100 (7.168 sec)\n",
      "INFO:tensorflow:global_step/sec: 12.0037\n",
      "INFO:tensorflow:loss = 0.57991755, step = 3200 (8.331 sec)\n",
      "INFO:tensorflow:global_step/sec: 12.8137\n",
      "INFO:tensorflow:loss = 0.77922916, step = 3300 (7.803 sec)\n",
      "INFO:tensorflow:global_step/sec: 12.9779\n",
      "INFO:tensorflow:loss = 0.549788, step = 3400 (7.706 sec)\n",
      "INFO:tensorflow:global_step/sec: 12.7664\n",
      "INFO:tensorflow:loss = 0.50521296, step = 3500 (7.833 sec)\n",
      "INFO:tensorflow:global_step/sec: 13.0572\n",
      "INFO:tensorflow:loss = 0.68790376, step = 3600 (7.661 sec)\n",
      "INFO:tensorflow:global_step/sec: 12.9295\n",
      "INFO:tensorflow:loss = 0.8458624, step = 3700 (7.732 sec)\n",
      "INFO:tensorflow:global_step/sec: 13.3016\n",
      "INFO:tensorflow:loss = 0.63318044, step = 3800 (7.517 sec)\n",
      "INFO:tensorflow:global_step/sec: 15.5117\n",
      "INFO:tensorflow:loss = 0.5286331, step = 3900 (6.447 sec)\n",
      "INFO:tensorflow:Saving checkpoints for 4000 into C:\\Users\\asafarpo\\AppData\\Local\\Temp\\tmp4ac2l11u\\model.ckpt.\n",
      "INFO:tensorflow:Calling model_fn.\n",
      "INFO:tensorflow:Done calling model_fn.\n",
      "INFO:tensorflow:Starting evaluation at 2019-12-10T17:18:07Z\n",
      "INFO:tensorflow:Graph was finalized.\n",
      "INFO:tensorflow:Restoring parameters from C:\\Users\\asafarpo\\AppData\\Local\\Temp\\tmp4ac2l11u\\model.ckpt-4000\n",
      "INFO:tensorflow:Running local_init_op.\n",
      "INFO:tensorflow:Done running local_init_op.\n",
      "INFO:tensorflow:Evaluation [1/4]\n",
      "INFO:tensorflow:Evaluation [2/4]\n",
      "INFO:tensorflow:Evaluation [3/4]\n",
      "INFO:tensorflow:Evaluation [4/4]\n",
      "INFO:tensorflow:Finished evaluation at 2019-12-10-17:18:20\n",
      "INFO:tensorflow:Saving dict for global step 4000: accuracy = 0.7265625, global_step = 4000, loss = 0.7143849\n",
      "INFO:tensorflow:Saving 'checkpoint_path' summary for global step 4000: C:\\Users\\asafarpo\\AppData\\Local\\Temp\\tmp4ac2l11u\\model.ckpt-4000\n",
      "INFO:tensorflow:Loss for final step: 0.5452159.\n"
     ]
    },
    {
     "data": {
      "text/plain": [
       "({'accuracy': 0.7265625, 'loss': 0.7143849, 'global_step': 4000}, [])"
      ]
     },
     "execution_count": 5,
     "metadata": {},
     "output_type": "execute_result"
    }
   ],
   "source": [
    "# Define train & eval specs\n",
    "train_spec = tf.estimator.TrainSpec(input_fn=train_input_fn,\n",
    "                                    max_steps=STEPS_PER_EPOCH * NUM_EPOCHS)\n",
    "eval_spec = tf.estimator.EvalSpec(input_fn=train_input_fn,\n",
    "                                    steps=STEPS_PER_EPOCH)\n",
    "\n",
    "# Create the Estimator & Train\n",
    "estimator = tf.estimator.Estimator(model_fn=model_fn)\n",
    "tf.estimator.train_and_evaluate(estimator, train_spec, eval_spec)"
   ]
  },
  {
   "cell_type": "code",
   "execution_count": null,
   "metadata": {},
   "outputs": [],
   "source": []
  }
 ],
 "metadata": {
  "kernelspec": {
   "display_name": "Python 3",
   "language": "python",
   "name": "python3"
  },
  "language_info": {
   "codemirror_mode": {
    "name": "ipython",
    "version": 3
   },
   "file_extension": ".py",
   "mimetype": "text/x-python",
   "name": "python",
   "nbconvert_exporter": "python",
   "pygments_lexer": "ipython3",
   "version": "3.6.9"
  }
 },
 "nbformat": 4,
 "nbformat_minor": 4
}
